{
 "cells": [
  {
   "cell_type": "markdown",
   "metadata": {},
   "source": [
    "### connection"
   ]
  },
  {
   "cell_type": "code",
   "execution_count": 16,
   "metadata": {},
   "outputs": [
    {
     "name": "stdout",
     "output_type": "stream",
     "text": [
      "<mysql.connector.connection_cext.CMySQLConnection object at 0x00000217A23C5048>\n"
     ]
    }
   ],
   "source": [
    "import mysql.connector as sql\n",
    "connection=sql.connect(\n",
    "host=\"localhost\",\n",
    "user=\"root\",\n",
    "password=\"12345\")\n",
    "\n",
    "print(connection)"
   ]
  },
  {
   "cell_type": "markdown",
   "metadata": {},
   "source": [
    "### Creating database"
   ]
  },
  {
   "cell_type": "code",
   "execution_count": 18,
   "metadata": {},
   "outputs": [],
   "source": [
    "cursor=connection.cursor() \n",
    "cursor.execute(\"CREATE DATABASE datascience1\")"
   ]
  },
  {
   "cell_type": "code",
   "execution_count": 19,
   "metadata": {},
   "outputs": [],
   "source": [
    "cursor.execute('SHOW DATABASES')"
   ]
  },
  {
   "cell_type": "code",
   "execution_count": 20,
   "metadata": {},
   "outputs": [
    {
     "name": "stdout",
     "output_type": "stream",
     "text": [
      "('datascience',)\n",
      "('datascience1',)\n",
      "('information_schema',)\n",
      "('mysql',)\n",
      "('performance_schema',)\n",
      "('restaurant',)\n",
      "('sakila',)\n",
      "('stud',)\n",
      "('sys',)\n",
      "('world',)\n"
     ]
    }
   ],
   "source": [
    "for db in cursor:\n",
    "    print(db)"
   ]
  },
  {
   "cell_type": "markdown",
   "metadata": {},
   "source": [
    "### Execute and drop  database and check"
   ]
  },
  {
   "cell_type": "code",
   "execution_count": 22,
   "metadata": {},
   "outputs": [],
   "source": [
    "cursor.execute(\"DROP DATABASE datascience\")"
   ]
  },
  {
   "cell_type": "code",
   "execution_count": 23,
   "metadata": {},
   "outputs": [
    {
     "name": "stdout",
     "output_type": "stream",
     "text": [
      "('datascience1',)\n",
      "('information_schema',)\n",
      "('mysql',)\n",
      "('performance_schema',)\n",
      "('restaurant',)\n",
      "('sakila',)\n",
      "('stud',)\n",
      "('sys',)\n",
      "('world',)\n"
     ]
    }
   ],
   "source": [
    "cursor.execute('SHOW DATABASES')\n",
    "for db in cursor:\n",
    "    print(db)"
   ]
  },
  {
   "cell_type": "code",
   "execution_count": 24,
   "metadata": {},
   "outputs": [
    {
     "name": "stdout",
     "output_type": "stream",
     "text": [
      "<mysql.connector.connection_cext.CMySQLConnection object at 0x00000217A23C59B0>\n"
     ]
    }
   ],
   "source": [
    "import mysql.connector as sql\n",
    "connection=sql.connect(\n",
    "host=\"localhost\",\n",
    "user=\"root\",\n",
    "password=\"12345\",\n",
    "database='datascience1')\n",
    "\n",
    "print(connection)"
   ]
  },
  {
   "cell_type": "markdown",
   "metadata": {},
   "source": [
    "### Create Table in MySQL in python"
   ]
  },
  {
   "cell_type": "code",
   "execution_count": 26,
   "metadata": {},
   "outputs": [],
   "source": [
    "cursor=connection.cursor()   #operation object"
   ]
  },
  {
   "cell_type": "code",
   "execution_count": 39,
   "metadata": {},
   "outputs": [],
   "source": [
    "cursor.execute(\"CREATE TABLE studentinf1(id INT AUTO_INCREMENT PRIMARY KEY, name VARCHAR(250), project VARCHAR(250))\")"
   ]
  },
  {
   "cell_type": "markdown",
   "metadata": {},
   "source": [
    "### Insert records in table"
   ]
  },
  {
   "cell_type": "code",
   "execution_count": 47,
   "metadata": {},
   "outputs": [],
   "source": [
    "query= \"\"\"INSERT INTO datascience1.studentinfo1 (name, project) VALUES(%s, %s)\"\"\"\n",
    "value=(\"surya\",\"Machine Learning\")\n"
   ]
  },
  {
   "cell_type": "code",
   "execution_count": 48,
   "metadata": {},
   "outputs": [],
   "source": [
    "cursor.execute(query,value)"
   ]
  },
  {
   "cell_type": "code",
   "execution_count": 49,
   "metadata": {},
   "outputs": [
    {
     "name": "stdout",
     "output_type": "stream",
     "text": [
      "row inserted 1\n"
     ]
    }
   ],
   "source": [
    "print('row inserted',cursor.lastrowid)"
   ]
  },
  {
   "cell_type": "code",
   "execution_count": 65,
   "metadata": {},
   "outputs": [
    {
     "name": "stdout",
     "output_type": "stream",
     "text": [
      "row inserted 8\n"
     ]
    }
   ],
   "source": [
    "##insert multiline\n",
    "\n",
    "query=\"\"\"INSERT INTO datascience1.studentinfo1(name,project) VALUES(%s, %s)\"\"\"\n",
    "values=[(\"Jaisurya\",\"Matlab\",),\n",
    "       (\"Selvan\",\"Machine Learning\"),\n",
    "      (\"Hariharan\",\"Deep Learning\"),\n",
    "      (\"Swetha\",\"Statistics\"),\n",
    "      (\"Anu\",\"NLP\"),\n",
    "      (\"Anjali\",\"Analytics\")]\n",
    "        \n",
    "cursor.executemany(query,values)\n",
    "print(\"row inserted\",cursor.lastrowid)"
   ]
  },
  {
   "cell_type": "markdown",
   "metadata": {},
   "source": [
    "### select all"
   ]
  },
  {
   "cell_type": "code",
   "execution_count": 70,
   "metadata": {},
   "outputs": [],
   "source": [
    "cursor=connection.cursor()\n",
    "cursor.execute(\"select * from studentinfo1\")"
   ]
  },
  {
   "cell_type": "markdown",
   "metadata": {},
   "source": [
    "### fetch all"
   ]
  },
  {
   "cell_type": "code",
   "execution_count": 71,
   "metadata": {},
   "outputs": [
    {
     "data": {
      "text/plain": [
       "[(1, 'surya', 'Machine Learning'),\n",
       " (2, 'Jaisurya', 'Matlab'),\n",
       " (3, 'Selvan', 'Machine Learning'),\n",
       " (4, 'Hariharan', 'Deep Learning'),\n",
       " (5, 'Swetha', 'Statistics'),\n",
       " (6, 'Anu', 'NLP'),\n",
       " (7, 'Anjali', 'Analytics'),\n",
       " (8, 'Jaisurya', 'Matlab'),\n",
       " (9, 'Selvan', 'Machine Learning'),\n",
       " (10, 'Hariharan', 'Deep Learning'),\n",
       " (11, 'Swetha', 'Statistics'),\n",
       " (12, 'Anu', 'NLP'),\n",
       " (13, 'Anjali', 'Analytics')]"
      ]
     },
     "execution_count": 71,
     "metadata": {},
     "output_type": "execute_result"
    }
   ],
   "source": [
    "cursor.fetchall()"
   ]
  },
  {
   "cell_type": "markdown",
   "metadata": {},
   "source": [
    "### fetch one record at a time"
   ]
  },
  {
   "cell_type": "code",
   "execution_count": 72,
   "metadata": {},
   "outputs": [],
   "source": [
    "cursor.fetchone()"
   ]
  },
  {
   "cell_type": "markdown",
   "metadata": {},
   "source": [
    "### select particular columns"
   ]
  },
  {
   "cell_type": "code",
   "execution_count": 74,
   "metadata": {},
   "outputs": [],
   "source": [
    "cursor.execute(\"select project from studentinfo1\")"
   ]
  },
  {
   "cell_type": "code",
   "execution_count": 75,
   "metadata": {},
   "outputs": [
    {
     "data": {
      "text/plain": [
       "[('Machine Learning',),\n",
       " ('Matlab',),\n",
       " ('Machine Learning',),\n",
       " ('Deep Learning',),\n",
       " ('Statistics',),\n",
       " ('NLP',),\n",
       " ('Analytics',),\n",
       " ('Matlab',),\n",
       " ('Machine Learning',),\n",
       " ('Deep Learning',),\n",
       " ('Statistics',),\n",
       " ('NLP',),\n",
       " ('Analytics',)]"
      ]
     },
     "execution_count": 75,
     "metadata": {},
     "output_type": "execute_result"
    }
   ],
   "source": [
    "cursor.fetchall()"
   ]
  },
  {
   "cell_type": "code",
   "execution_count": 76,
   "metadata": {},
   "outputs": [],
   "source": [
    "cursor.execute(\"SELECT DISTINCT name from studentinfo1\")"
   ]
  },
  {
   "cell_type": "code",
   "execution_count": 77,
   "metadata": {},
   "outputs": [
    {
     "data": {
      "text/plain": [
       "[('surya',),\n",
       " ('Jaisurya',),\n",
       " ('Selvan',),\n",
       " ('Hariharan',),\n",
       " ('Swetha',),\n",
       " ('Anu',),\n",
       " ('Anjali',)]"
      ]
     },
     "execution_count": 77,
     "metadata": {},
     "output_type": "execute_result"
    }
   ],
   "source": [
    "cursor.fetchall()"
   ]
  },
  {
   "cell_type": "code",
   "execution_count": 78,
   "metadata": {},
   "outputs": [],
   "source": [
    "cursor.execute(\"SELECT name, project from studentinfo1 WHERE name= 'surya' OR project = 'Machine Learning'\")"
   ]
  },
  {
   "cell_type": "code",
   "execution_count": 79,
   "metadata": {},
   "outputs": [
    {
     "data": {
      "text/plain": [
       "[('surya', 'Machine Learning'),\n",
       " ('Selvan', 'Machine Learning'),\n",
       " ('Selvan', 'Machine Learning')]"
      ]
     },
     "execution_count": 79,
     "metadata": {},
     "output_type": "execute_result"
    }
   ],
   "source": [
    "cursor.fetchall()"
   ]
  },
  {
   "cell_type": "markdown",
   "metadata": {},
   "source": [
    "### Drop table"
   ]
  },
  {
   "cell_type": "code",
   "execution_count": 80,
   "metadata": {},
   "outputs": [],
   "source": [
    "cursor.execute('DROP TABLE studentinfo1')"
   ]
  },
  {
   "cell_type": "code",
   "execution_count": null,
   "metadata": {},
   "outputs": [],
   "source": []
  }
 ],
 "metadata": {
  "kernelspec": {
   "display_name": "Python 3",
   "language": "python",
   "name": "python3"
  },
  "language_info": {
   "codemirror_mode": {
    "name": "ipython",
    "version": 3
   },
   "file_extension": ".py",
   "mimetype": "text/x-python",
   "name": "python",
   "nbconvert_exporter": "python",
   "pygments_lexer": "ipython3",
   "version": "3.6.5"
  }
 },
 "nbformat": 4,
 "nbformat_minor": 2
}
