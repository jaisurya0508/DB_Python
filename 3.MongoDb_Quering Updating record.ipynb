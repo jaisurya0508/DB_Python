{
 "cells": [
  {
   "cell_type": "markdown",
   "metadata": {},
   "source": [
    "### import mongodb connection"
   ]
  },
  {
   "cell_type": "code",
   "execution_count": 1,
   "metadata": {},
   "outputs": [],
   "source": [
    "import pymongo"
   ]
  },
  {
   "cell_type": "markdown",
   "metadata": {},
   "source": [
    "### Localhost access"
   ]
  },
  {
   "cell_type": "code",
   "execution_count": 2,
   "metadata": {},
   "outputs": [],
   "source": [
    "client=pymongo.MongoClient('mongodb://127.0.0.1:27017/')"
   ]
  },
  {
   "cell_type": "markdown",
   "metadata": {},
   "source": [
    "### Create database"
   ]
  },
  {
   "cell_type": "code",
   "execution_count": 3,
   "metadata": {},
   "outputs": [],
   "source": [
    "mydb=client['Machine_Learning']"
   ]
  },
  {
   "cell_type": "markdown",
   "metadata": {},
   "source": [
    "### create table collection"
   ]
  },
  {
   "cell_type": "code",
   "execution_count": 4,
   "metadata": {},
   "outputs": [],
   "source": [
    "inventory=mydb.inventory"
   ]
  },
  {
   "cell_type": "markdown",
   "metadata": {},
   "source": [
    "### insert record "
   ]
  },
  {
   "cell_type": "code",
   "execution_count": 5,
   "metadata": {},
   "outputs": [],
   "source": [
    "inventory.insert_many([{'book':\"Datascience\",'qty':25,'size':{'page':300,'h':14},'author':'Anu'},\n",
    "                       {'book':\"Machine Learning\",'qty':15,'size':{'page':500,'h':14},'author':'Surya'},\n",
    "                       {'book':\"Analytics\",'qty':35,'size':{'page':200,'h':11},'author':'Jai'},\n",
    "                       {'book':\"Statistics\",'qty':55,'size':{'page':230,'h':12},'author':'Kanan'},\n",
    "                       {'book':\"NOSQL\",'qty':12,'size':{'page':300,'h':13},'author':'Lovelin'}]);\n",
    "                    "
   ]
  },
  {
   "cell_type": "code",
   "execution_count": 6,
   "metadata": {},
   "outputs": [
    {
     "name": "stdout",
     "output_type": "stream",
     "text": [
      "{'_id': ObjectId('5f8c5656fdc62b439dff5978'), 'book': 'Machine Learning', 'qty': 15, 'size': {'page': 500, 'h': 14}, 'author': 'Surya'}\n",
      "{'_id': ObjectId('5f8c57b561f134efcb2e0c01'), 'book': 'Machine Learning', 'qty': 15, 'size': {'page': 500, 'h': 14}, 'author': 'Surya'}\n"
     ]
    }
   ],
   "source": [
    "for record in inventory.find({'size':{'page':500,'h':14}}):\n",
    "    print(record)"
   ]
  },
  {
   "cell_type": "code",
   "execution_count": 8,
   "metadata": {},
   "outputs": [
    {
     "name": "stdout",
     "output_type": "stream",
     "text": [
      "{'_id': ObjectId('5f8c5656fdc62b439dff5977'), 'book': 'Datascience', 'qty': 25, 'size': {'page': 300, 'h': 14}, 'author': 'Anu'}\n",
      "{'_id': ObjectId('5f8c5656fdc62b439dff5978'), 'book': 'Machine Learning', 'qty': 15, 'size': {'page': 500, 'h': 14}, 'author': 'Surya'}\n",
      "{'_id': ObjectId('5f8c5656fdc62b439dff5979'), 'book': 'Analytics', 'qty': 35, 'size': {'page': 200, 'h': 11}, 'author': 'Jai'}\n",
      "{'_id': ObjectId('5f8c5656fdc62b439dff597a'), 'book': 'Statistics', 'qty': 55, 'size': {'page': 230, 'h': 12}, 'author': 'Kanan'}\n",
      "{'_id': ObjectId('5f8c5656fdc62b439dff597b'), 'book': 'NOSQL', 'qty': 12, 'size': {'page': 300, 'h': 13}, 'author': 'Lovelin'}\n",
      "{'_id': ObjectId('5f8c57b561f134efcb2e0c00'), 'book': 'Datascience', 'qty': 25, 'size': {'page': 300, 'h': 14}, 'author': 'Anu'}\n",
      "{'_id': ObjectId('5f8c57b561f134efcb2e0c01'), 'book': 'Machine Learning', 'qty': 15, 'size': {'page': 500, 'h': 14}, 'author': 'Surya'}\n",
      "{'_id': ObjectId('5f8c57b561f134efcb2e0c02'), 'book': 'Analytics', 'qty': 35, 'size': {'page': 200, 'h': 11}, 'author': 'Jai'}\n",
      "{'_id': ObjectId('5f8c57b561f134efcb2e0c03'), 'book': 'Statistics', 'qty': 55, 'size': {'page': 230, 'h': 12}, 'author': 'Kanan'}\n",
      "{'_id': ObjectId('5f8c57b561f134efcb2e0c04'), 'book': 'NOSQL', 'qty': 12, 'size': {'page': 300, 'h': 13}, 'author': 'Lovelin'}\n"
     ]
    }
   ],
   "source": [
    "for record in inventory.find():\n",
    "    print(record)"
   ]
  },
  {
   "cell_type": "markdown",
   "metadata": {},
   "source": [
    "### Update using update_one"
   ]
  },
  {
   "cell_type": "code",
   "execution_count": 14,
   "metadata": {
    "scrolled": true
   },
   "outputs": [
    {
     "data": {
      "text/plain": [
       "<pymongo.results.UpdateResult at 0x22ef79edf08>"
      ]
     },
     "execution_count": 14,
     "metadata": {},
     "output_type": "execute_result"
    }
   ],
   "source": [
    "inventory.update_one({'book':'Statistics'},\n",
    "                     {'$set':{\"size.page\":16},\n",
    "                       \"$currentDate\":{\"lastModified\":True}})"
   ]
  },
  {
   "cell_type": "markdown",
   "metadata": {},
   "source": [
    "### upadte using Update_many"
   ]
  },
  {
   "cell_type": "code",
   "execution_count": 15,
   "metadata": {},
   "outputs": [
    {
     "data": {
      "text/plain": [
       "<pymongo.results.UpdateResult at 0x22ef79ed588>"
      ]
     },
     "execution_count": 15,
     "metadata": {},
     "output_type": "execute_result"
    }
   ],
   "source": [
    "inventory.update_many({'qty':{'$gt':50}},\n",
    "                     {'$set':{\"author\":\"Jaisurya\"}})"
   ]
  },
  {
   "cell_type": "code",
   "execution_count": 16,
   "metadata": {},
   "outputs": [
    {
     "name": "stdout",
     "output_type": "stream",
     "text": [
      "{'_id': ObjectId('5f8c5656fdc62b439dff5977'), 'book': 'Datascience', 'qty': 25, 'size': {'page': 300, 'h': 14}, 'author': 'Anu'}\n",
      "{'_id': ObjectId('5f8c5656fdc62b439dff5978'), 'book': 'Machine Learning', 'qty': 15, 'size': {'page': 500, 'h': 14}, 'author': 'Surya'}\n",
      "{'_id': ObjectId('5f8c5656fdc62b439dff5979'), 'book': 'Analytics', 'qty': 35, 'size': {'page': 200, 'h': 11}, 'author': 'Jai'}\n",
      "{'_id': ObjectId('5f8c5656fdc62b439dff597a'), 'book': 'Statistics', 'qty': 55, 'size': {'page': 16, 'h': 16}, 'author': 'Jaisurya', 'lastModified': datetime.datetime(2020, 10, 18, 15, 9, 24, 419000)}\n",
      "{'_id': ObjectId('5f8c5656fdc62b439dff597b'), 'book': 'NOSQL', 'qty': '34', 'size': {'page': 300, 'h': '16'}, 'author': 'Lovelin', 'lastModified': datetime.datetime(2020, 10, 18, 15, 7, 52, 324000)}\n",
      "{'_id': ObjectId('5f8c57b561f134efcb2e0c00'), 'book': 'Datascience', 'qty': 25, 'size': {'page': 300, 'h': 14}, 'author': 'Anu'}\n",
      "{'_id': ObjectId('5f8c57b561f134efcb2e0c01'), 'book': 'Machine Learning', 'qty': 15, 'size': {'page': 500, 'h': 14}, 'author': 'Surya'}\n",
      "{'_id': ObjectId('5f8c57b561f134efcb2e0c02'), 'book': 'Analytics', 'qty': 35, 'size': {'page': 200, 'h': 11}, 'author': 'Jai'}\n",
      "{'_id': ObjectId('5f8c57b561f134efcb2e0c03'), 'book': 'Statistics', 'qty': 55, 'size': {'page': 230, 'h': 12}, 'author': 'Jaisurya'}\n",
      "{'_id': ObjectId('5f8c57b561f134efcb2e0c04'), 'book': 'NOSQL', 'qty': 12, 'size': {'page': 300, 'h': 13}, 'author': 'Lovelin'}\n"
     ]
    }
   ],
   "source": [
    "for record in inventory.find():\n",
    "    print(record)"
   ]
  },
  {
   "cell_type": "markdown",
   "metadata": {},
   "source": [
    "### Using replace_one"
   ]
  },
  {
   "cell_type": "code",
   "execution_count": 17,
   "metadata": {},
   "outputs": [
    {
     "data": {
      "text/plain": [
       "<pymongo.results.UpdateResult at 0x22ef79fc908>"
      ]
     },
     "execution_count": 17,
     "metadata": {},
     "output_type": "execute_result"
    }
   ],
   "source": [
    "inventory.replace_one({\"book\":\"Analytics\"},\n",
    "                     {\"book\":\"Analytics\",\n",
    "                     \"instock\":[\n",
    "                         {\"warehouse\":\"A\",\"qty\":345},\n",
    "                         {\"warehouse\":\"B\",\"qty\":349}\n",
    "                     ]})"
   ]
  },
  {
   "cell_type": "code",
   "execution_count": 18,
   "metadata": {},
   "outputs": [
    {
     "name": "stdout",
     "output_type": "stream",
     "text": [
      "{'_id': ObjectId('5f8c5656fdc62b439dff5979'), 'book': 'Analytics', 'instock': [{'warehouse': 'A', 'qty': 345}, {'warehouse': 'B', 'qty': 349}]}\n",
      "{'_id': ObjectId('5f8c57b561f134efcb2e0c02'), 'book': 'Analytics', 'qty': 35, 'size': {'page': 200, 'h': 11}, 'author': 'Jai'}\n"
     ]
    }
   ],
   "source": [
    "for record in inventory.find({\"book\":\"Analytics\"}):\n",
    "    print(record)"
   ]
  },
  {
   "cell_type": "code",
   "execution_count": null,
   "metadata": {},
   "outputs": [],
   "source": []
  }
 ],
 "metadata": {
  "kernelspec": {
   "display_name": "Python 3",
   "language": "python",
   "name": "python3"
  },
  "language_info": {
   "codemirror_mode": {
    "name": "ipython",
    "version": 3
   },
   "file_extension": ".py",
   "mimetype": "text/x-python",
   "name": "python",
   "nbconvert_exporter": "python",
   "pygments_lexer": "ipython3",
   "version": "3.6.5"
  }
 },
 "nbformat": 4,
 "nbformat_minor": 2
}
