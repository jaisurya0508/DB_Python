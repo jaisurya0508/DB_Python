{
 "cells": [
  {
   "cell_type": "markdown",
   "metadata": {},
   "source": [
    "### import MongoClinet"
   ]
  },
  {
   "cell_type": "code",
   "execution_count": 1,
   "metadata": {},
   "outputs": [],
   "source": [
    "from pymongo import MongoClient"
   ]
  },
  {
   "cell_type": "markdown",
   "metadata": {},
   "source": [
    "### Creation of MOngoclient"
   ]
  },
  {
   "cell_type": "code",
   "execution_count": 2,
   "metadata": {},
   "outputs": [],
   "source": [
    "client=MongoClient()"
   ]
  },
  {
   "cell_type": "markdown",
   "metadata": {},
   "source": [
    "### Connect mongodb with host and port"
   ]
  },
  {
   "cell_type": "code",
   "execution_count": 4,
   "metadata": {},
   "outputs": [],
   "source": [
    "client=MongoClient('mongodb://127.0.0.1:27017/')"
   ]
  },
  {
   "cell_type": "markdown",
   "metadata": {},
   "source": [
    "### Create database"
   ]
  },
  {
   "cell_type": "code",
   "execution_count": 5,
   "metadata": {},
   "outputs": [],
   "source": [
    "mydbs=client['students']"
   ]
  },
  {
   "cell_type": "markdown",
   "metadata": {},
   "source": [
    "### Create table collections"
   ]
  },
  {
   "cell_type": "code",
   "execution_count": 6,
   "metadata": {},
   "outputs": [],
   "source": [
    "collection=mydbs['studentscores']"
   ]
  },
  {
   "cell_type": "markdown",
   "metadata": {},
   "source": [
    "### Accessing collection of db"
   ]
  },
  {
   "cell_type": "code",
   "execution_count": 8,
   "metadata": {},
   "outputs": [],
   "source": [
    "data=[{\"Name\":\"Surya\",\"Subject\":\"Machine Learning\",\"score\":98},\n",
    "      {\"Name\":\"Jai\",\"Subject\":\"NLP\",\"score\":88},\n",
    "      {\"Name\":\"Anu\",\"Subject\":\"Machine Learning\",\"score\":99},\n",
    "      {\"Name\":\"Surya\",\"Subject\":\"CV\",\"score\":76}\n",
    "     ]"
   ]
  },
  {
   "cell_type": "code",
   "execution_count": 9,
   "metadata": {},
   "outputs": [
    {
     "data": {
      "text/plain": [
       "<pymongo.results.InsertManyResult at 0x21f09829188>"
      ]
     },
     "execution_count": 9,
     "metadata": {},
     "output_type": "execute_result"
    }
   ],
   "source": [
    "collection.insert_many(data)"
   ]
  },
  {
   "cell_type": "markdown",
   "metadata": {},
   "source": [
    "### Aggregate"
   ]
  },
  {
   "cell_type": "markdown",
   "metadata": {},
   "source": [
    "### sum"
   ]
  },
  {
   "cell_type": "code",
   "execution_count": 23,
   "metadata": {},
   "outputs": [],
   "source": [
    "agg_res=collection.aggregate(\n",
    "[{\n",
    "    \"$group\":\n",
    "    {\"_id\":\"$Name\",\n",
    "    \"Total_subjects\":{'$sum':1}}\n",
    "}])"
   ]
  },
  {
   "cell_type": "code",
   "execution_count": 24,
   "metadata": {
    "scrolled": true
   },
   "outputs": [
    {
     "name": "stdout",
     "output_type": "stream",
     "text": [
      "{'_id': 'Jai', 'Total_subjects': 1}\n",
      "{'_id': 'Surya', 'Total_subjects': 2}\n",
      "{'_id': 'Anu', 'Total_subjects': 1}\n"
     ]
    }
   ],
   "source": [
    "for i in agg_res:\n",
    "    print(i)"
   ]
  },
  {
   "cell_type": "markdown",
   "metadata": {},
   "source": [
    "### average"
   ]
  },
  {
   "cell_type": "code",
   "execution_count": 25,
   "metadata": {},
   "outputs": [],
   "source": [
    "agg_res=collection.aggregate(\n",
    "[{\n",
    "    '$group':\n",
    "    {'_id':\"$Name\",\n",
    "    \"Total_scores\":{\"$sum\":\"$score\"}}\n",
    "}])"
   ]
  },
  {
   "cell_type": "code",
   "execution_count": 26,
   "metadata": {},
   "outputs": [
    {
     "name": "stdout",
     "output_type": "stream",
     "text": [
      "{'_id': 'Jai', 'Total_scores': 88}\n",
      "{'_id': 'Anu', 'Total_scores': 99}\n",
      "{'_id': 'Surya', 'Total_scores': 174}\n"
     ]
    }
   ],
   "source": [
    "for i in agg_res:\n",
    "    print(i)"
   ]
  },
  {
   "cell_type": "code",
   "execution_count": 28,
   "metadata": {},
   "outputs": [],
   "source": [
    "agg_res=collection.aggregate(\n",
    "[{\n",
    "    '$group':\n",
    "    {'_id':\"$Name\",\n",
    "    \"Average\":{\"$avg\":\"$score\"}}\n",
    "}])"
   ]
  },
  {
   "cell_type": "code",
   "execution_count": 29,
   "metadata": {
    "scrolled": true
   },
   "outputs": [
    {
     "name": "stdout",
     "output_type": "stream",
     "text": [
      "{'_id': 'Jai', 'Average': 88.0}\n",
      "{'_id': 'Anu', 'Average': 99.0}\n",
      "{'_id': 'Surya', 'Average': 87.0}\n"
     ]
    }
   ],
   "source": [
    "for i in agg_res:\n",
    "    print(i)"
   ]
  },
  {
   "cell_type": "markdown",
   "metadata": {},
   "source": [
    "### Mininum"
   ]
  },
  {
   "cell_type": "code",
   "execution_count": 30,
   "metadata": {},
   "outputs": [],
   "source": [
    "agg_res=collection.aggregate(\n",
    "[{\n",
    "    '$group':\n",
    "    {'_id':\"$Name\",\n",
    "    \"minimum\":{\"$min\":\"$score\"}}\n",
    "}])"
   ]
  },
  {
   "cell_type": "code",
   "execution_count": 31,
   "metadata": {
    "scrolled": true
   },
   "outputs": [
    {
     "name": "stdout",
     "output_type": "stream",
     "text": [
      "{'_id': 'Anu', 'minimum': 99}\n",
      "{'_id': 'Surya', 'minimum': 76}\n",
      "{'_id': 'Jai', 'minimum': 88}\n"
     ]
    }
   ],
   "source": [
    "for i in agg_res:\n",
    "    print(i)"
   ]
  },
  {
   "cell_type": "markdown",
   "metadata": {},
   "source": [
    "### maximum"
   ]
  },
  {
   "cell_type": "code",
   "execution_count": 32,
   "metadata": {},
   "outputs": [],
   "source": [
    "agg_res=collection.aggregate(\n",
    "[{\n",
    "    '$group':\n",
    "    {'_id':\"$Name\",\n",
    "    \"maximum\":{\"$max\":\"$score\"}}\n",
    "}])"
   ]
  },
  {
   "cell_type": "code",
   "execution_count": 33,
   "metadata": {
    "scrolled": true
   },
   "outputs": [
    {
     "name": "stdout",
     "output_type": "stream",
     "text": [
      "{'_id': 'Jai', 'maximum': 88}\n",
      "{'_id': 'Anu', 'maximum': 99}\n",
      "{'_id': 'Surya', 'maximum': 98}\n"
     ]
    }
   ],
   "source": [
    "for i in agg_res:\n",
    "    print(i)"
   ]
  },
  {
   "cell_type": "markdown",
   "metadata": {},
   "source": [
    "### create another collection"
   ]
  },
  {
   "cell_type": "code",
   "execution_count": 41,
   "metadata": {},
   "outputs": [],
   "source": [
    "import datetime"
   ]
  },
  {
   "cell_type": "code",
   "execution_count": 45,
   "metadata": {},
   "outputs": [],
   "source": [
    "data1=[{\"_id\":1,\"item\":\"abc\",\"price\":10,\"quantity\":2,\"date\":datetime.datetime.utcnow()},\n",
    "      {\"_id\":2,\"item\":\"xyz\",\"price\":20,\"quantity\":4,\"date\":datetime.datetime.utcnow()},\n",
    "      {\"_id\":3,\"item\":\"abc\",\"price\":10,\"quantity\":3,\"date\":datetime.datetime.utcnow()},\n",
    "      {\"_id\":4,\"item\":\"hys\",\"price\":30,\"quantity\":10,\"date\":datetime.datetime.utcnow()}\n",
    "     ]"
   ]
  },
  {
   "cell_type": "code",
   "execution_count": 46,
   "metadata": {},
   "outputs": [
    {
     "data": {
      "text/plain": [
       "[{'_id': 1,\n",
       "  'item': 'abc',\n",
       "  'price': 10,\n",
       "  'quantity': 2,\n",
       "  'date': datetime.datetime(2020, 10, 18, 15, 52, 9, 920431)},\n",
       " {'_id': 2,\n",
       "  'item': 'xyz',\n",
       "  'price': 20,\n",
       "  'quantity': 4,\n",
       "  'date': datetime.datetime(2020, 10, 18, 15, 52, 9, 920431)},\n",
       " {'_id': 3,\n",
       "  'item': 'abc',\n",
       "  'price': 10,\n",
       "  'quantity': 3,\n",
       "  'date': datetime.datetime(2020, 10, 18, 15, 52, 9, 920431)},\n",
       " {'_id': 4,\n",
       "  'item': 'hys',\n",
       "  'price': 30,\n",
       "  'quantity': 10,\n",
       "  'date': datetime.datetime(2020, 10, 18, 15, 52, 9, 920431)}]"
      ]
     },
     "execution_count": 46,
     "metadata": {},
     "output_type": "execute_result"
    }
   ],
   "source": [
    "data1"
   ]
  },
  {
   "cell_type": "code",
   "execution_count": 47,
   "metadata": {},
   "outputs": [
    {
     "data": {
      "text/plain": [
       "<pymongo.results.InsertManyResult at 0x21f09907b48>"
      ]
     },
     "execution_count": 47,
     "metadata": {},
     "output_type": "execute_result"
    }
   ],
   "source": [
    "mycollection=mydbs['store']\n",
    "mycollection.insert_many(data1)"
   ]
  },
  {
   "cell_type": "code",
   "execution_count": 50,
   "metadata": {},
   "outputs": [],
   "source": [
    "agg_result=mycollection.aggregate([{\n",
    "    \"$group\":{\n",
    "    \"_id\":\"$item\",\n",
    "    \"avg amount\":{\"$avg\":{\"$multiply\":[\"$price\",\"$quantity\"]}},\n",
    "    \"avg quantity\":{\"$avg\":\"$quantity\"}}\n",
    "    \n",
    "}])"
   ]
  },
  {
   "cell_type": "code",
   "execution_count": 51,
   "metadata": {},
   "outputs": [
    {
     "name": "stdout",
     "output_type": "stream",
     "text": [
      "{'_id': 'xyz', 'avg amount': 80.0, 'avg quantity': 4.0}\n",
      "{'_id': 'abc', 'avg amount': 25.0, 'avg quantity': 2.5}\n",
      "{'_id': 'hys', 'avg amount': 300.0, 'avg quantity': 10.0}\n"
     ]
    }
   ],
   "source": [
    "for i in agg_result:\n",
    "    print(i)"
   ]
  },
  {
   "cell_type": "markdown",
   "metadata": {},
   "source": [
    "### project agg"
   ]
  },
  {
   "cell_type": "code",
   "execution_count": 54,
   "metadata": {},
   "outputs": [],
   "source": [
    "data=[{\n",
    "  \"_id\" : 1,\n",
    "  \"title\": \"abc123\",\n",
    "  \"isbn\": \"0001122223334\",\n",
    "  \"author\": { \"last\": \"zzz\", \"first\": \"aaa\" },\n",
    "  \"copies\": 5,\n",
    "  \"lastModified\": \"2016-07-28\"\n",
    "},\n",
    "{\n",
    "  \"_id\" : 2,\n",
    "  \"title\": \"Baked Goods\",\n",
    "  \"isbn\": \"9999999999999\",\n",
    "  \"author\": { \"last\": \"xyz\", \"first\": \"abc\", \"middle\": \"\" },\n",
    "  \"copies\": 2,\n",
    "  \"lastModified\": \"2017-07-21\"\n",
    "},\n",
    "{\n",
    "  \"_id\" : 3,\n",
    "  \"title\": \"Ice Cream Cakes\",\n",
    "  \"isbn\": \"8888888888888\",\n",
    "  \"author\": { \"last\": \"xyz\", \"first\": \"abc\", \"middle\": \"mmm\" },\n",
    "  \"copies\": 5,\n",
    "  \"lastModified\": \"2017-07-22\"\n",
    "}]"
   ]
  },
  {
   "cell_type": "code",
   "execution_count": 55,
   "metadata": {},
   "outputs": [
    {
     "data": {
      "text/plain": [
       "[{'_id': 1,\n",
       "  'title': 'abc123',\n",
       "  'isbn': '0001122223334',\n",
       "  'author': {'last': 'zzz', 'first': 'aaa'},\n",
       "  'copies': 5,\n",
       "  'lastModified': '2016-07-28'},\n",
       " {'_id': 2,\n",
       "  'title': 'Baked Goods',\n",
       "  'isbn': '9999999999999',\n",
       "  'author': {'last': 'xyz', 'first': 'abc', 'middle': ''},\n",
       "  'copies': 2,\n",
       "  'lastModified': '2017-07-21'},\n",
       " {'_id': 3,\n",
       "  'title': 'Ice Cream Cakes',\n",
       "  'isbn': '8888888888888',\n",
       "  'author': {'last': 'xyz', 'first': 'abc', 'middle': 'mmm'},\n",
       "  'copies': 5,\n",
       "  'lastModified': '2017-07-22'}]"
      ]
     },
     "execution_count": 55,
     "metadata": {},
     "output_type": "execute_result"
    }
   ],
   "source": [
    "data"
   ]
  },
  {
   "cell_type": "code",
   "execution_count": 56,
   "metadata": {},
   "outputs": [],
   "source": [
    "collection=mycollection['books']\n"
   ]
  },
  {
   "cell_type": "code",
   "execution_count": 57,
   "metadata": {},
   "outputs": [
    {
     "data": {
      "text/plain": [
       "<pymongo.results.InsertManyResult at 0x21f09944848>"
      ]
     },
     "execution_count": 57,
     "metadata": {},
     "output_type": "execute_result"
    }
   ],
   "source": [
    "collection.insert_many(data)"
   ]
  },
  {
   "cell_type": "code",
   "execution_count": 58,
   "metadata": {},
   "outputs": [
    {
     "name": "stdout",
     "output_type": "stream",
     "text": [
      "{'_id': 1, 'title': 'abc123', 'copies': 5}\n",
      "{'_id': 2, 'title': 'Baked Goods', 'copies': 2}\n",
      "{'_id': 3, 'title': 'Ice Cream Cakes', 'copies': 5}\n"
     ]
    }
   ],
   "source": [
    "for row in collection.aggregate([{\"$project\":{'title':1,'copies':1}}]):\n",
    "    print(row)"
   ]
  },
  {
   "cell_type": "code",
   "execution_count": null,
   "metadata": {},
   "outputs": [],
   "source": []
  }
 ],
 "metadata": {
  "kernelspec": {
   "display_name": "Python 3",
   "language": "python",
   "name": "python3"
  },
  "language_info": {
   "codemirror_mode": {
    "name": "ipython",
    "version": 3
   },
   "file_extension": ".py",
   "mimetype": "text/x-python",
   "name": "python",
   "nbconvert_exporter": "python",
   "pygments_lexer": "ipython3",
   "version": "3.6.5"
  }
 },
 "nbformat": 4,
 "nbformat_minor": 2
}
