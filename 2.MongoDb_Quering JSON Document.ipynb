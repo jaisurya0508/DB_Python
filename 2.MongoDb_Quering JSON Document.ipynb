{
 "cells": [
  {
   "cell_type": "markdown",
   "metadata": {},
   "source": [
    "### import mongodb connection"
   ]
  },
  {
   "cell_type": "code",
   "execution_count": 1,
   "metadata": {},
   "outputs": [],
   "source": [
    "import pymongo"
   ]
  },
  {
   "cell_type": "markdown",
   "metadata": {},
   "source": [
    "### Localhost access"
   ]
  },
  {
   "cell_type": "code",
   "execution_count": 10,
   "metadata": {},
   "outputs": [],
   "source": [
    "client=pymongo.MongoClient('mongodb://127.0.0.1:27017/')"
   ]
  },
  {
   "cell_type": "markdown",
   "metadata": {},
   "source": [
    "### Create database"
   ]
  },
  {
   "cell_type": "code",
   "execution_count": 16,
   "metadata": {},
   "outputs": [],
   "source": [
    "mydb=client['Machine_Learning']"
   ]
  },
  {
   "cell_type": "markdown",
   "metadata": {},
   "source": [
    "### create table collection"
   ]
  },
  {
   "cell_type": "code",
   "execution_count": 17,
   "metadata": {},
   "outputs": [],
   "source": [
    "info=mydb.MLproject1"
   ]
  },
  {
   "cell_type": "markdown",
   "metadata": {},
   "source": [
    "### insert record "
   ]
  },
  {
   "cell_type": "code",
   "execution_count": 18,
   "metadata": {},
   "outputs": [
    {
     "data": {
      "text/plain": [
       "<pymongo.results.InsertOneResult at 0x25aafd10148>"
      ]
     },
     "execution_count": 18,
     "metadata": {},
     "output_type": "execute_result"
    }
   ],
   "source": [
    "record={\n",
    "    'Name':'Jayasurya',\n",
    "    'Content':'Supervised Learning',\n",
    "    'Guide':'Rajkumar',\n",
    "    'Previous':'House Pred',\n",
    "    'Days':7}\n",
    "info.insert_one(record)"
   ]
  },
  {
   "cell_type": "code",
   "execution_count": 19,
   "metadata": {},
   "outputs": [],
   "source": [
    "record=[{\n",
    "    'Name':'Hariharan',\n",
    "    'Content':'Un Supervised Learning',\n",
    "    'Guide':'Arjun',\n",
    "    'Previous':'Diabetics Pred',\n",
    "    'Days':7},\n",
    "    {\n",
    "    'Name':'Selvan Kumar',\n",
    "    'Content':'Supervised Learning',\n",
    "    'Guide':'Eugien',\n",
    "    'Previous':'Spam or Ham',\n",
    "    'Days':5},\n",
    "    {\n",
    "    'Name':'Anu',\n",
    "    'Content':'Clustering',\n",
    "    'Guide':'Rajkumar',\n",
    "    'Previous':'Movie recommendation',\n",
    "    'Days':10}]\n",
    "    \n"
   ]
  },
  {
   "cell_type": "markdown",
   "metadata": {},
   "source": [
    "### access multiple record using insert_many"
   ]
  },
  {
   "cell_type": "code",
   "execution_count": 20,
   "metadata": {
    "scrolled": false
   },
   "outputs": [
    {
     "data": {
      "text/plain": [
       "<pymongo.results.InsertManyResult at 0x25aafad8cc8>"
      ]
     },
     "execution_count": 20,
     "metadata": {},
     "output_type": "execute_result"
    }
   ],
   "source": [
    "info.insert_many(record)"
   ]
  },
  {
   "cell_type": "markdown",
   "metadata": {},
   "source": [
    "### Normal way of query "
   ]
  },
  {
   "cell_type": "code",
   "execution_count": 21,
   "metadata": {},
   "outputs": [
    {
     "data": {
      "text/plain": [
       "{'_id': ObjectId('5f8c4dc1fdc62b439dff5973'),\n",
       " 'Name': 'Jayasurya',\n",
       " 'Content': 'Supervised Learning',\n",
       " 'Guide': 'Rajkumar',\n",
       " 'Previous': 'House Pred',\n",
       " 'Days': 7}"
      ]
     },
     "execution_count": 21,
     "metadata": {},
     "output_type": "execute_result"
    }
   ],
   "source": [
    "info.find_one()"
   ]
  },
  {
   "cell_type": "markdown",
   "metadata": {},
   "source": [
    "### Select * from MLproject1"
   ]
  },
  {
   "cell_type": "code",
   "execution_count": 22,
   "metadata": {},
   "outputs": [
    {
     "data": {
      "text/plain": [
       "<pymongo.cursor.Cursor at 0x25aafd18240>"
      ]
     },
     "execution_count": 22,
     "metadata": {},
     "output_type": "execute_result"
    }
   ],
   "source": [
    "info.find()"
   ]
  },
  {
   "cell_type": "code",
   "execution_count": 23,
   "metadata": {},
   "outputs": [
    {
     "name": "stdout",
     "output_type": "stream",
     "text": [
      "{'_id': ObjectId('5f8c4dc1fdc62b439dff5973'), 'Name': 'Jayasurya', 'Content': 'Supervised Learning', 'Guide': 'Rajkumar', 'Previous': 'House Pred', 'Days': 7}\n",
      "{'_id': ObjectId('5f8c4dc4fdc62b439dff5974'), 'Name': 'Hariharan', 'Content': 'Un Supervised Learning', 'Guide': 'Arjun', 'Previous': 'Diabetics Pred', 'Days': 7}\n",
      "{'_id': ObjectId('5f8c4dc4fdc62b439dff5975'), 'Name': 'Selvan Kumar', 'Content': 'Supervised Learning', 'Guide': 'Eugien', 'Previous': 'Spam or Ham', 'Days': 5}\n",
      "{'_id': ObjectId('5f8c4dc4fdc62b439dff5976'), 'Name': 'Anu', 'Content': 'Clustering', 'Guide': 'Rajkumar', 'Previous': 'Movie recommendation', 'Days': 10}\n"
     ]
    }
   ],
   "source": [
    "for record in info.find():\n",
    "    print(record)"
   ]
  },
  {
   "cell_type": "markdown",
   "metadata": {},
   "source": [
    "### Query the document based on equality condition"
   ]
  },
  {
   "cell_type": "code",
   "execution_count": 26,
   "metadata": {},
   "outputs": [
    {
     "name": "stdout",
     "output_type": "stream",
     "text": [
      "{'_id': ObjectId('5f8c4dc1fdc62b439dff5973'), 'Name': 'Jayasurya', 'Content': 'Supervised Learning', 'Guide': 'Rajkumar', 'Previous': 'House Pred', 'Days': 7}\n"
     ]
    }
   ],
   "source": [
    "for record in info.find({'Name':'Jayasurya'}):\n",
    "    print(record)"
   ]
  },
  {
   "cell_type": "markdown",
   "metadata": {},
   "source": [
    "### query the document using query operations($in,$lt$gt)-->in lesserthan,greaterthan"
   ]
  },
  {
   "cell_type": "code",
   "execution_count": 27,
   "metadata": {},
   "outputs": [
    {
     "name": "stdout",
     "output_type": "stream",
     "text": [
      "{'_id': ObjectId('5f8c4dc1fdc62b439dff5973'), 'Name': 'Jayasurya', 'Content': 'Supervised Learning', 'Guide': 'Rajkumar', 'Previous': 'House Pred', 'Days': 7}\n",
      "{'_id': ObjectId('5f8c4dc4fdc62b439dff5975'), 'Name': 'Selvan Kumar', 'Content': 'Supervised Learning', 'Guide': 'Eugien', 'Previous': 'Spam or Ham', 'Days': 5}\n",
      "{'_id': ObjectId('5f8c4dc4fdc62b439dff5976'), 'Name': 'Anu', 'Content': 'Clustering', 'Guide': 'Rajkumar', 'Previous': 'Movie recommendation', 'Days': 10}\n"
     ]
    }
   ],
   "source": [
    "for record in info.find({'Content':{'$in':['Supervised Learning','Clustering']}}):\n",
    "    print(record)"
   ]
  },
  {
   "cell_type": "markdown",
   "metadata": {},
   "source": [
    "### And and Query operator"
   ]
  },
  {
   "cell_type": "code",
   "execution_count": 28,
   "metadata": {
    "scrolled": true
   },
   "outputs": [
    {
     "name": "stdout",
     "output_type": "stream",
     "text": [
      "{'_id': ObjectId('5f8c4dc4fdc62b439dff5974'), 'Name': 'Hariharan', 'Content': 'Un Supervised Learning', 'Guide': 'Arjun', 'Previous': 'Diabetics Pred', 'Days': 7}\n"
     ]
    }
   ],
   "source": [
    "for record in info.find({'Content':'Un Supervised Learning','Days':{'$lt':8}}):\n",
    "    print(record)"
   ]
  },
  {
   "cell_type": "markdown",
   "metadata": {},
   "source": [
    "### OR operator"
   ]
  },
  {
   "cell_type": "code",
   "execution_count": 29,
   "metadata": {},
   "outputs": [
    {
     "name": "stdout",
     "output_type": "stream",
     "text": [
      "{'_id': ObjectId('5f8c4dc1fdc62b439dff5973'), 'Name': 'Jayasurya', 'Content': 'Supervised Learning', 'Guide': 'Rajkumar', 'Previous': 'House Pred', 'Days': 7}\n",
      "{'_id': ObjectId('5f8c4dc4fdc62b439dff5974'), 'Name': 'Hariharan', 'Content': 'Un Supervised Learning', 'Guide': 'Arjun', 'Previous': 'Diabetics Pred', 'Days': 7}\n",
      "{'_id': ObjectId('5f8c4dc4fdc62b439dff5976'), 'Name': 'Anu', 'Content': 'Clustering', 'Guide': 'Rajkumar', 'Previous': 'Movie recommendation', 'Days': 10}\n"
     ]
    }
   ],
   "source": [
    "for record in info.find({'$or':[{'Content':'Clustering'},{'Days':7}]}):\n",
    "    print(record)"
   ]
  },
  {
   "cell_type": "markdown",
   "metadata": {},
   "source": [
    "### create another collection"
   ]
  },
  {
   "cell_type": "code",
   "execution_count": 30,
   "metadata": {},
   "outputs": [],
   "source": [
    "inventory=mydb.inventory"
   ]
  },
  {
   "cell_type": "code",
   "execution_count": 32,
   "metadata": {},
   "outputs": [],
   "source": [
    "inventory.insert_many([{'book':\"Datascience\",'qty':25,'size':{'page':300,'h':14},'author':'Anu'},\n",
    "                       {'book':\"Machine Learning\",'qty':15,'size':{'page':500,'h':14},'author':'Surya'},\n",
    "                       {'book':\"Analytics\",'qty':35,'size':{'page':200,'h':11},'author':'Jai'},\n",
    "                       {'book':\"Statistics\",'qty':55,'size':{'page':230,'h':12},'author':'Kanan'},\n",
    "                       {'book':\"NOSQL\",'qty':12,'size':{'page':300,'h':13},'author':'Lovelin'}]);\n",
    "                    "
   ]
  },
  {
   "cell_type": "code",
   "execution_count": 35,
   "metadata": {},
   "outputs": [
    {
     "name": "stdout",
     "output_type": "stream",
     "text": [
      "{'_id': ObjectId('5f8c5656fdc62b439dff5978'), 'book': 'Machine Learning', 'qty': 15, 'size': {'page': 500, 'h': 14}, 'author': 'Surya'}\n"
     ]
    }
   ],
   "source": [
    "for record in inventory.find({'size':{'page':500,'h':14}}):\n",
    "    print(record)"
   ]
  },
  {
   "cell_type": "code",
   "execution_count": null,
   "metadata": {},
   "outputs": [],
   "source": []
  }
 ],
 "metadata": {
  "kernelspec": {
   "display_name": "Python 3",
   "language": "python",
   "name": "python3"
  },
  "language_info": {
   "codemirror_mode": {
    "name": "ipython",
    "version": 3
   },
   "file_extension": ".py",
   "mimetype": "text/x-python",
   "name": "python",
   "nbconvert_exporter": "python",
   "pygments_lexer": "ipython3",
   "version": "3.6.5"
  }
 },
 "nbformat": 4,
 "nbformat_minor": 2
}
